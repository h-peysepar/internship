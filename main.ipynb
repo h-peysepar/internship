{
 "cells": [
  {
   "cell_type": "markdown",
   "id": "a17e4e24",
   "metadata": {},
   "source": [
    "# Pistachio Irrigation Water Optimization\n",
    "\n",
    "This Jupyter Notebook contains Python code that optimizes the irrigation water for pistachio cultivation. The code reads plant information and irrigation data from an Excel file, performs various calculations, and then optimizes the irrigation schedule to maximize expected crop yield while minimizing water consumption.\n",
    "\n",
    "## Required Packages\n",
    "\n",
    "We use following packages to optimize irrigation:\n",
    "\n",
    "a. pandas: Pandas is a popular data manipulation library in Python. It provides data structures like DataFrame and Series, and functions for reading, writing, and manipulating data efficiently.\n",
    "\n",
    "b. math.prod: The prod() function from the math module calculates the product of all elements in an iterable.\n",
    "\n",
    "c. tabulate: The tabulate package is used to display the final results in a tabulated format for better readability.\n",
    "\n",
    "d. scipy.optimize.minimize: This function is used for numerical optimization. It attempts to find the minimum of a scalar function by iteratively adjusting the input parameters."
   ]
  },
  {
   "cell_type": "code",
   "execution_count": 11,
   "id": "261b1972",
   "metadata": {},
   "outputs": [],
   "source": [
    "import pandas as pd\n",
    "from math import prod\n",
    "from tabulate import tabulate\n",
    "from scipy.optimize import minimize"
   ]
  },
  {
   "cell_type": "markdown",
   "id": "9f74e62a",
   "metadata": {},
   "source": [
    "## Function Descriptions\n",
    "\n",
    "The code consists of several functions that perform specific tasks. Below are the descriptions of each function:\n",
    "\n",
    "### `read_input(cellName)`\n",
    "\n",
    "This function reads the value associated with a given cell name from the 'Input' sheet in the Excel file. It takes the cell name as input and returns the corresponding value or None if the cell is not found.\n"
   ]
  },
  {
   "cell_type": "code",
   "execution_count": 12,
   "id": "e19777da",
   "metadata": {
    "scrolled": true
   },
   "outputs": [
    {
     "name": "stdout",
     "output_type": "stream",
     "text": [
      "    Soil Water Solidity       5\n",
      "0  Irrigation Frequency    40.0\n",
      "1   Expected Crop Yeild  5000.0\n",
      "2        Field Capacity   157.5\n",
      "3                   Age    10.0\n"
     ]
    }
   ],
   "source": [
    "inputSheet = pd.read_excel('data.xlsx', sheet_name='Input', skiprows=1, nrows=5, usecols=\"A:B\")\n",
    "print(inputSheet)\n",
    "def read_input(cellName):\n",
    "    global inputSheet\n",
    "    df = inputSheet\n",
    "    df.columns = ['key', 'value']\n",
    "    key_row = df[df['key'] == cellName]\n",
    "    \n",
    "    if not key_row.empty:\n",
    "        value = key_row.iloc[0]['value']\n",
    "        return value\n",
    "    else:\n",
    "        return None\n"
   ]
  },
  {
   "cell_type": "markdown",
   "id": "0413207a",
   "metadata": {},
   "source": [
    "### `get_expected_productivity()`\n",
    "\n",
    "This function calculates the expected productivity of the pistachio plant based on input parameters such as expected crop yield, soil water solidity, and plant age. It adjusts the expected crop yield based on the soil water solidity and plant age, and then returns the expected productivity.\n"
   ]
  },
  {
   "cell_type": "code",
   "execution_count": 13,
   "id": "06a04cdc",
   "metadata": {},
   "outputs": [],
   "source": [
    "def get_expected_productivity():\n",
    "    expected = read_input('Expected Crop Yeild')\n",
    "    soilWaterSolidity = read_input('Soil Water Solidity')\n",
    "    age = read_input('Age')\n",
    "    if soilWaterSolidity and soilWaterSolidity > 7:\n",
    "        expected = 100 - 3.6 * (expected - 7)\n",
    "    if(age):\n",
    "        if(age < 3):\n",
    "            expected *= .4\n",
    "        elif age < 6:\n",
    "            expected *= .7\n",
    "        elif age < 9:\n",
    "            expected *= .9\n",
    "    return expected\n"
   ]
  },
  {
   "cell_type": "markdown",
   "id": "ff34e8ac",
   "metadata": {},
   "source": [
    "### `get_max_productivity()`\n",
    "\n",
    "This function extracts the maximum crop efficiency from the 'Crop History' sheet in the Excel file. It returns the maximum crop efficiency value.\n"
   ]
  },
  {
   "cell_type": "code",
   "execution_count": 14,
   "id": "ce1e93de",
   "metadata": {},
   "outputs": [],
   "source": [
    "cropHistory = pd.read_excel('data.xlsx', sheet_name='Crop History', skiprows=1, nrows=9, usecols=\"B:B\")\n",
    "\n",
    "def get_max_productivity():\n",
    "    global cropHistory\n",
    "    df = cropHistory\n",
    "    df.columns = ['Efficiency']\n",
    "    maxCropEfficiency = df['Efficiency'].max()\n",
    "    return maxCropEfficiency\n"
   ]
  },
  {
   "cell_type": "markdown",
   "id": "e16d1118",
   "metadata": {},
   "source": [
    "### `create_dataframe()`\n",
    "\n",
    "This function reads the 'Irrigation' sheet from the Excel file and creates a DataFrame with the required columns for irrigation data.\n"
   ]
  },
  {
   "cell_type": "code",
   "execution_count": 21,
   "id": "23d1783a",
   "metadata": {},
   "outputs": [
    {
     "name": "stdout",
     "output_type": "stream",
     "text": [
      "          Month  Decade  Progress Stage    Kc    ETo    ETc  Effective Precipitation  Irrigation  Irrigation Scheduling  Raes Method1  Raes Method2  Raes Method3  Raes Method4 Irrigation Scheduling F=40.0\n",
      "0     Farvardin       2            0.50  0.38  42.93  12.85                     4.61        8.24                   8.24          0.50          0.50      0.968984      0.031016                         58.8\n",
      "1     Farvardin       3            0.50  0.38  55.07  16.48                     2.89       13.59                  13.59          0.50          0.50      0.968984      0.031016                         None\n",
      "2   Ordibehesht       1            0.85  0.43  53.85  18.23                     0.00       18.23                  18.23          0.85          0.15      0.917381      0.082619                         None\n",
      "3   Ordibehesht       2            0.85  0.49  53.46  20.63                     1.89       18.74                  18.74          0.85          0.15      0.917381      0.082619                         None\n",
      "4   Ordibehesht       3            0.85  0.54  64.76  27.54                     0.57       26.97                  26.97          0.85          0.15      0.917381      0.082619                       123.43\n",
      "5       Khordad       1            0.85  0.60  64.18  30.33                     0.00       30.33                  30.33          0.85          0.15      0.917381      0.082619                         None\n",
      "6       Khordad       2            0.85  0.58  67.12  30.66                     0.00       30.66                  30.66          0.85          0.15      0.917381      0.082619                         None\n",
      "7       Khordad       3            0.85  0.58  77.65  35.47                     0.00       35.47                  35.47          0.85          0.15      0.917381      0.082619                         None\n",
      "8           Tir       1            0.85  0.58  72.93  33.31                     0.00       33.31                  33.31          0.85          0.15      0.917381      0.082619                        132.7\n",
      "9           Tir       2            0.85  0.58  71.82  32.80                     0.00       32.80                  32.80          0.85          0.15      0.917381      0.082619                         None\n",
      "10          Tir       3            0.85  0.58  77.14  35.23                     0.00       35.23                  35.23          0.85          0.15      0.917381      0.082619                         None\n",
      "11       Mordad       1            0.85  0.58  68.66  31.36                     0.00       31.36                  31.36          0.85          0.15      0.917381      0.082619                         None\n",
      "12       Mordad       2            0.60  0.58  67.66  30.90                     0.45       30.45                  30.45          0.60          0.40      0.959206      0.040794                       109.58\n",
      "13       Mordad       3            0.60  0.55  70.81  30.67                     0.00       30.67                  30.67          0.60          0.40      0.959206      0.040794                         None\n",
      "14    Shahrivar       1            0.60  0.53  61.15  25.52                     0.00       25.52                  25.52          0.60          0.40      0.959206      0.040794                         None\n",
      "15    Shahrivar       2            0.60  0.51  57.12  22.94                     0.00       22.94                  22.94          0.60          0.40      0.959206      0.040794                         None\n",
      "16    Shahrivar       3            0.60  0.48  58.87  22.25                     0.00       22.25                  22.25          0.60          0.40      0.959206      0.040794                        66.99\n",
      "17         Mehr       1            0.60  0.46  48.04  17.40                     0.00       17.40                  17.40          0.60          0.40      0.959206      0.040794                         None\n",
      "18         Mehr       2            0.60  0.44  42.67  14.79                     0.00       14.79                  14.79          0.60          0.40      0.959206      0.040794                         None\n",
      "19         Mehr       3            0.60  0.42  37.93  12.55                     0.00       12.55                  12.55          0.60          0.40      0.959206      0.040794                         None\n",
      "20         Aban       1            0.60  0.40  31.53   9.93                     1.27        8.66                   8.66          0.60          0.40      0.959206      0.040794                        14.15\n",
      "21         Aban       2            0.60  0.38  20.31   6.08                     0.59        5.49                   5.49          0.60          0.40      0.959206      0.040794                         None\n"
     ]
    }
   ],
   "source": [
    "def create_dataframe():\n",
    "    df = pd.read_excel('data.xlsx', sheet_name='Irrigation', skiprows=1, nrows=23, usecols=\"A:H\")\n",
    "    pd.set_option('expand_frame_repr', False)\n",
    "    df.columns = ['Month', 'Decade', 'Progress Stage', 'Kc', 'ETo', 'ETc', 'Effective Precipitation', 'Irrigation']\n",
    "    return df\n",
    "df = create_dataframe()\n",
    "df['Irrigation Scheduling'] = df['Irrigation']\n",
    "calculate_columns(df)\n",
    "print(df)"
   ]
  },
  {
   "cell_type": "markdown",
   "id": "faeff942",
   "metadata": {},
   "source": [
    "### `calculate_columns(df)`\n",
    "\n",
    "This function performs various calculations to create new columns in the DataFrame. It calculates Raes Method1, Raes Method2, Raes Method3, Raes Method4, and irrigation scheduling for each month based on the irrigation frequency.\n"
   ]
  },
  {
   "cell_type": "code",
   "execution_count": 22,
   "id": "5a233637",
   "metadata": {},
   "outputs": [],
   "source": [
    "def calculate_columns(df):\n",
    "    df['Raes Method1'] = df['Progress Stage'] * (df['Irrigation Scheduling'] / df['Irrigation'])\n",
    "    df['Raes Method2'] = 1 - df['Raes Method1']\n",
    "    df['Raes Method3'] = pow(df['Raes Method2'], 10/220)\n",
    "    df['Raes Method4'] = 1 - df['Raes Method3']\n",
    "    cycle = read_input('Irrigation Frequency')\n",
    "    cycle_key = f'Irrigation Scheduling F={cycle}'\n",
    "    df[cycle_key] = None\n",
    "    jump = cycle / 10\n",
    "    for i in range(0, len(df)):\n",
    "        if (i % jump) == 0:\n",
    "            sum = df.loc[i : i + jump - 1, 'Irrigation Scheduling'].sum()\n",
    "            capacity = read_input('Field Capacity')\n",
    "            df.loc[i, cycle_key] = sum if capacity > sum else capacity \n"
   ]
  },
  {
   "cell_type": "code",
   "execution_count": null,
   "id": "0473ad7e-ffa1-457c-b104-daa5999fa754",
   "metadata": {},
   "outputs": [],
   "source": []
  },
  {
   "cell_type": "markdown",
   "id": "689ab39e",
   "metadata": {},
   "source": [
    "### `calculate_objective(df)`\n",
    "\n",
    "This function calculates the objective value for optimization. It uses the product of Raes Method3, the maximum crop efficiency, and the expected productivity to determine the objective value.\n"
   ]
  },
  {
   "cell_type": "code",
   "execution_count": 23,
   "id": "7e86073e",
   "metadata": {},
   "outputs": [],
   "source": [
    "def calculate_objective(df):\n",
    "    product = df['Raes Method3'].product() \n",
    "    max = get_max_productivity()\n",
    "    expected = get_expected_productivity()\n",
    "    objective = expected - ((1 - product) * max)\n",
    "    return objective\n"
   ]
  },
  {
   "cell_type": "markdown",
   "id": "f6f65fd7",
   "metadata": {},
   "source": [
    "### `objective_function(x, df)`\n",
    "\n",
    "This function defines the objective function for optimization. It updates the irrigation scheduling in the DataFrame based on the input parameters x, calculates the objective value using calculate_objective(), and returns the absolute value of the objective.\n"
   ]
  },
  {
   "cell_type": "code",
   "execution_count": 24,
   "id": "7e5969e3",
   "metadata": {},
   "outputs": [],
   "source": [
    "def objective_function(x, df):\n",
    "    df['Irrigation Scheduling'] = x\n",
    "    calculate_columns(df)\n",
    "    objective = calculate_objective(df)\n",
    "    return abs(objective) \n"
   ]
  },
  {
   "cell_type": "markdown",
   "id": "f9fea4e3",
   "metadata": {},
   "source": [
    "### `constraint(x, x_values, y_values)`\n",
    "\n",
    "This function defines the constraint for optimization. It ensures that the optimized irrigation scheduling is less than or equal to the original irrigation values.\n"
   ]
  },
  {
   "cell_type": "code",
   "execution_count": 25,
   "id": "2e57044a",
   "metadata": {},
   "outputs": [],
   "source": [
    "def constraint(x, x_values, y_values):\n",
    "    return y_values - x_values\n"
   ]
  },
  {
   "cell_type": "code",
   "execution_count": 26,
   "id": "a55c6840-fc4a-4631-b011-1365a0f903b7",
   "metadata": {},
   "outputs": [
    {
     "name": "stdout",
     "output_type": "stream",
     "text": [
      "Optimized Objective Value: 6.738446245435625e-09\n",
      "Total Irrigation Water:  430.12295453161306\n",
      "    Month          Decade    Progress Stage    Kc    ETo    ETc    Effective Precipitation    Irrigation    Irrigation Scheduling    Raes Method1    Raes Method2    Raes Method3    Raes Method4    Irrigation Scheduling F=40.0\n",
      "--  -----------  --------  ----------------  ----  -----  -----  -------------------------  ------------  -----------------------  --------------  --------------  --------------  --------------  ------------------------------\n",
      " 0  Farvardin           2              0.5   0.38  42.93  12.85                       4.61          8.24                  7.23256        0.438869        0.561131        0.974078       0.0259218                         39.9817\n",
      " 1  Farvardin           3              0.5   0.38  55.07  16.48                       2.89         13.59                 12.5002         0.459906        0.540094        0.972388       0.0276121\n",
      " 2  Ordibehesht         1              0.85  0.43  53.85  18.23                       0            18.23                  9.90128        0.461661        0.538339        0.972244       0.027756\n",
      " 3  Ordibehesht         2              0.85  0.49  53.46  20.63                       1.89         18.74                 10.3477         0.469345        0.530655        0.971609       0.0283911\n",
      " 4  Ordibehesht         3              0.85  0.54  64.76  27.54                       0.57         26.97                 19.4234         0.612157        0.387843        0.957861       0.0421389                         98.9764\n",
      " 5  Khordad             1              0.85  0.6   64.18  30.33                       0            30.33                 24.1481         0.676751        0.323249        0.949962       0.050038\n",
      " 6  Khordad             2              0.85  0.58  67.12  30.66                       0            30.66                 24.594          0.681828        0.318172        0.949279       0.0507214\n",
      " 7  Khordad             3              0.85  0.58  77.65  35.47                       0            35.47                 30.811          0.738352        0.261648        0.940876       0.0591235\n",
      " 8  Tir                 1              0.85  0.58  72.93  33.31                       0            33.31                 28.0798         0.716537        0.283463        0.944308       0.0556924                        111.544\n",
      " 9  Tir                 2              0.85  0.58  71.82  32.8                        0            32.8                  27.4214         0.710615        0.289385        0.945195       0.0548046\n",
      "10  Tir                 3              0.85  0.58  77.14  35.23                       0            35.23                 30.5118         0.736163        0.263837        0.941233       0.0587671\n",
      "11  Mordad              1              0.85  0.58  68.66  31.36                       0            31.36                 25.531          0.692008        0.307992        0.947877       0.0521235\n",
      "12  Mordad              2              0.6   0.58  67.66  30.9                        0.45         30.45                 29.8618         0.588411        0.411589        0.960452       0.039548                         106.752\n",
      "13  Mordad              3              0.6   0.55  70.81  30.67                       0            30.67                 30.0879         0.588613        0.411387        0.96043        0.0395695\n",
      "14  Shahrivar           1              0.6   0.53  61.15  25.52                       0            25.52                 24.7597         0.582123        0.417877        0.961114       0.038886\n",
      "15  Shahrivar           2              0.6   0.51  57.12  22.94                       0            22.94                 22.0426         0.576529        0.423471        0.961695       0.0383048\n",
      "16  Shahrivar           3              0.6   0.48  58.87  22.25                       0            22.25                 21.3074         0.57458         0.42542         0.961896       0.0381041                         59.9965\n",
      "17  Mehr                1              0.6   0.46  48.04  17.4                        0            17.4                  15.9625         0.550431        0.449569        0.964313       0.035687\n",
      "18  Mehr                2              0.6   0.44  42.67  14.79                       0            14.79                 12.8456         0.521122        0.478878        0.967085       0.0329147\n",
      "19  Mehr                3              0.6   0.42  37.93  12.55                       0            12.55                  9.88101        0.472399        0.527601        0.971354       0.028646\n",
      "20  Aban                1              0.6   0.4   31.53   9.93                       1.27          8.66                  7.63701        0.529123        0.470877        0.966345       0.0336551                         12.8722\n",
      "21  Aban                2              0.6   0.38  20.31   6.08                       0.59          5.49                  5.23521        0.572154        0.427846        0.962145       0.0378554\n"
     ]
    }
   ],
   "source": [
    "# Perform optimization\n",
    "result = minimize(objective_function, df['Irrigation Scheduling'].values, args=(df,), constraints={'type': 'ineq', 'fun': constraint, 'args': (df['Irrigation'].values, df['Irrigation Scheduling'].values), }, bounds=[(0, None)])\n",
    "optimized_y_values = result.x\n",
    "df['Irrigation Scheduling'] = optimized_y_values\n",
    "calculate_columns(df)\n",
    "optimized_objective = calculate_objective(df)\n",
    "\n",
    "# Display results\n",
    "print(\"Optimized Objective Value:\", optimized_objective)\n",
    "print(\"Total Irrigation Water: \", df['Irrigation Scheduling'].sum())\n",
    "\n",
    "table = tabulate(df, headers=df.columns, tablefmt='outline')\n",
    "print(table)"
   ]
  },
  {
   "cell_type": "code",
   "execution_count": null,
   "id": "564ebbb4",
   "metadata": {},
   "outputs": [],
   "source": []
  }
 ],
 "metadata": {
  "kernelspec": {
   "display_name": "Python 3 (ipykernel)",
   "language": "python",
   "name": "python3"
  },
  "language_info": {
   "codemirror_mode": {
    "name": "ipython",
    "version": 3
   },
   "file_extension": ".py",
   "mimetype": "text/x-python",
   "name": "python",
   "nbconvert_exporter": "python",
   "pygments_lexer": "ipython3",
   "version": "3.11.4"
  }
 },
 "nbformat": 4,
 "nbformat_minor": 5
}
